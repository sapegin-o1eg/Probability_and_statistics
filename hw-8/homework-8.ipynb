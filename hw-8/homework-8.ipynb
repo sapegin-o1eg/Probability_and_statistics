{
 "cells": [
  {
   "cell_type": "code",
   "execution_count": 1,
   "metadata": {},
   "outputs": [],
   "source": [
    "import numpy as np\n",
    "import scipy.stats as st"
   ]
  },
  {
   "cell_type": "markdown",
   "metadata": {},
   "source": [
    "### 1) Провести дисперсионный анализ для определения того, есть ли различия среднего роста среди взрослых футболистов, хоккеистов и штангистов. Даны значения роста в трех группах случайно выбранных спортсменов: Футболисты: 173, 175, 180, 178, 177, 185, 183, 182. Хоккеисты: 177, 179, 180, 188, 177, 172, 171, 184, 180. Штангисты: 172, 173, 169, 177, 166, 180, 178, 177, 172, 166, 170."
   ]
  },
  {
   "cell_type": "code",
   "execution_count": 2,
   "metadata": {},
   "outputs": [],
   "source": [
    "g1 = np.array([173, 175, 180, 178, 177, 185, 183, 182])\n",
    "g2 = np.array([177, 179, 180, 188, 177, 172, 171, 184, 180])\n",
    "g3 = np.array([172, 173, 169, 177, 166, 180, 178, 177, 172, 166, 170])"
   ]
  },
  {
   "cell_type": "code",
   "execution_count": 3,
   "metadata": {},
   "outputs": [],
   "source": [
    "k = 3\n",
    "n1 = 8\n",
    "n2 = 9\n",
    "n3 = 11\n",
    "n = n1 + n2 + n3 # 28"
   ]
  },
  {
   "cell_type": "markdown",
   "metadata": {},
   "source": [
    "Найдем среднее значение переменной Y на i-м уровне: $$\\overline{y}_{i} = \\frac{1}{n_i}\\sum\\limits_{j=1}^{n_i}y_{ij}$$"
   ]
  },
  {
   "cell_type": "code",
   "execution_count": 4,
   "metadata": {},
   "outputs": [
    {
     "data": {
      "text/plain": [
       "179.125"
      ]
     },
     "execution_count": 4,
     "metadata": {},
     "output_type": "execute_result"
    }
   ],
   "source": [
    "y_bar_1 = np.sum(g1) / n1\n",
    "y_bar_1"
   ]
  },
  {
   "cell_type": "code",
   "execution_count": 5,
   "metadata": {},
   "outputs": [
    {
     "data": {
      "text/plain": [
       "178.66666666666666"
      ]
     },
     "execution_count": 5,
     "metadata": {},
     "output_type": "execute_result"
    }
   ],
   "source": [
    "y_bar_2 = np.sum(g2) / n2\n",
    "y_bar_2"
   ]
  },
  {
   "cell_type": "code",
   "execution_count": 6,
   "metadata": {},
   "outputs": [
    {
     "data": {
      "text/plain": [
       "172.72727272727272"
      ]
     },
     "execution_count": 6,
     "metadata": {},
     "output_type": "execute_result"
    }
   ],
   "source": [
    "y_bar_3 = np.sum(g3) / n3\n",
    "y_bar_3"
   ]
  },
  {
   "cell_type": "markdown",
   "metadata": {},
   "source": [
    "Найдем среднее значение переменной Y по всем значениям: $$\\overline{Y} = \\frac{1}{n}\\sum\\limits_{i=1}^{k}\\sum\\limits_{j=1}^{n_i}y_{ij} = \\frac{1}{n}\\sum\\limits_{i=1}^{k}\\overline{y}_{i}n_{i}$$"
   ]
  },
  {
   "cell_type": "code",
   "execution_count": 7,
   "metadata": {},
   "outputs": [],
   "source": [
    "g_total = np.hstack([g1, g2, g3])"
   ]
  },
  {
   "cell_type": "code",
   "execution_count": 8,
   "metadata": {},
   "outputs": [
    {
     "data": {
      "text/plain": [
       "176.46428571428572"
      ]
     },
     "execution_count": 8,
     "metadata": {},
     "output_type": "execute_result"
    }
   ],
   "source": [
    "Y_bar = np.sum(g_total) / n\n",
    "Y_bar"
   ]
  },
  {
   "cell_type": "markdown",
   "metadata": {},
   "source": [
    "Найдем сумму квадратов отклонений наблюдений от общего среднего ($S^{2}$):"
   ]
  },
  {
   "cell_type": "code",
   "execution_count": 9,
   "metadata": {},
   "outputs": [
    {
     "data": {
      "text/plain": [
       "830.9642857142854"
      ]
     },
     "execution_count": 9,
     "metadata": {},
     "output_type": "execute_result"
    }
   ],
   "source": [
    "S2 = np.sum((g_total - Y_bar)**2)\n",
    "S2"
   ]
  },
  {
   "cell_type": "markdown",
   "metadata": {},
   "source": [
    "Найдем сумму квадратов отклонений средних групповых значений от общего среднего значения $\\overline{Y}$ ($S_F^2$ ):\n",
    "$$S_F^2 = \\sum\\limits_{i=1}^{k}(\\overline{y}_i - \\overline{Y})^2n_i$$"
   ]
  },
  {
   "cell_type": "code",
   "execution_count": 10,
   "metadata": {},
   "outputs": [
    {
     "data": {
      "text/plain": [
       "253.9074675324678"
      ]
     },
     "execution_count": 10,
     "metadata": {},
     "output_type": "execute_result"
    }
   ],
   "source": [
    "S2F = (y_bar_1 - Y_bar)**2 * n1 + (y_bar_2 - Y_bar)**2 * n2 + (y_bar_3 - Y_bar)**2 * n3\n",
    "S2F"
   ]
  },
  {
   "cell_type": "markdown",
   "metadata": {},
   "source": [
    "Найдем остаточную сумма квадратов отклонений ($S_{residual}^2$): $$S_{residual}^{2} = \\sum\\limits_{i=1}^{k}\\sum\\limits_{j=1}^{n_i}(y_{ij} - \\overline{y}_i)^2$$"
   ]
  },
  {
   "cell_type": "code",
   "execution_count": 11,
   "metadata": {},
   "outputs": [
    {
     "data": {
      "text/plain": [
       "577.0568181818182"
      ]
     },
     "execution_count": 11,
     "metadata": {},
     "output_type": "execute_result"
    }
   ],
   "source": [
    "S2R = np.sum((g1 - y_bar_1)**2) + np.sum((g2 - y_bar_2)**2) + np.sum((g3 - y_bar_3)**2)\n",
    "S2R"
   ]
  },
  {
   "cell_type": "markdown",
   "metadata": {},
   "source": [
    "Cумма квадратов отклонений наблюдений от общего среднего дожна быть равна:\n",
    "$$S^2 = S_F^2 + S_{residual}^2$$"
   ]
  },
  {
   "cell_type": "code",
   "execution_count": 12,
   "metadata": {},
   "outputs": [
    {
     "data": {
      "text/plain": [
       "True"
      ]
     },
     "execution_count": 12,
     "metadata": {},
     "output_type": "execute_result"
    }
   ],
   "source": [
    "np.round(S2, decimals=6) == np.round(S2R + S2F, decimals=6)"
   ]
  },
  {
   "cell_type": "markdown",
   "metadata": {},
   "source": [
    "Общая дисперсия:\n",
    "$$\\sigma_{total}^{2} = \\frac{S^2}{n - 1} = \\frac{1}{n-1}\\sum\\limits_{i=1}^{k}\\sum\\limits_{j=1}^{n_i}(y_{ij} - \\overline{Y})^2$$"
   ]
  },
  {
   "cell_type": "code",
   "execution_count": 13,
   "metadata": {},
   "outputs": [
    {
     "data": {
      "text/plain": [
       "30.776455026455015"
      ]
     },
     "execution_count": 13,
     "metadata": {},
     "output_type": "execute_result"
    }
   ],
   "source": [
    "sigma2t = S2 / (n - 1)\n",
    "sigma2t"
   ]
  },
  {
   "cell_type": "markdown",
   "metadata": {},
   "source": [
    "Факторная дисперсия:\n",
    "$$\\sigma_{F}^{2} = \\frac{S_{F}^{2}}{k-1} = \\frac{1}{k-1}\\sum\\limits_{i=1}^{k}(\\overline{y}_i - \\overline{Y})^{2}n_i$$"
   ]
  },
  {
   "cell_type": "code",
   "execution_count": 14,
   "metadata": {},
   "outputs": [
    {
     "data": {
      "text/plain": [
       "126.9537337662339"
      ]
     },
     "execution_count": 14,
     "metadata": {},
     "output_type": "execute_result"
    }
   ],
   "source": [
    "sigma2F = S2F / (k - 1)\n",
    "sigma2F"
   ]
  },
  {
   "cell_type": "markdown",
   "metadata": {},
   "source": [
    "Остаточная дисперсия:\n",
    "$$\\sigma_{residual}^{2} = \\frac{S_{residual}^{2}}{n - k} = \\frac{1}{n - k}\\sum\\limits_{i=1}^{k}\\sum\\limits_{j=1}^{n_i}(y_{ij} - \\overline{y}_i)^2$$"
   ]
  },
  {
   "cell_type": "code",
   "execution_count": 15,
   "metadata": {},
   "outputs": [
    {
     "data": {
      "text/plain": [
       "23.08227272727273"
      ]
     },
     "execution_count": 15,
     "metadata": {},
     "output_type": "execute_result"
    }
   ],
   "source": [
    "sigma2R = S2R / (n - k)\n",
    "sigma2R"
   ]
  },
  {
   "cell_type": "markdown",
   "metadata": {},
   "source": [
    "Найдем $F_H$ $$F_H = \\frac{\\sigma_{F}^{2}}{\\sigma_{residual}^{2}}$$"
   ]
  },
  {
   "cell_type": "code",
   "execution_count": 16,
   "metadata": {},
   "outputs": [
    {
     "data": {
      "text/plain": [
       "5.500053450812598"
      ]
     },
     "execution_count": 16,
     "metadata": {},
     "output_type": "execute_result"
    }
   ],
   "source": [
    "F_H = sigma2F / sigma2R\n",
    "F_H"
   ]
  },
  {
   "cell_type": "markdown",
   "metadata": {},
   "source": [
    "Проверим вычисления с помощью функции библиотеки scipy:"
   ]
  },
  {
   "cell_type": "code",
   "execution_count": 17,
   "metadata": {},
   "outputs": [
    {
     "data": {
      "text/plain": [
       "5.500053450812596"
      ]
     },
     "execution_count": 17,
     "metadata": {},
     "output_type": "execute_result"
    }
   ],
   "source": [
    "F, _ = st.f_oneway(g1,g2,g3)\n",
    "F"
   ]
  },
  {
   "cell_type": "markdown",
   "metadata": {},
   "source": [
    "Найдем значение $F_{crit}$ в таблице критических точек распределения Фишера-Снедекора для заданного уровня значимости $\\alpha = 0.05$ и двух степеней свободы: \n",
    "\n",
    "$df_{between} = k - 1 = 3 - 1 = 2$ и $df_{within} = n - k = 28 - 3 = 25$."
   ]
  },
  {
   "cell_type": "markdown",
   "metadata": {},
   "source": [
    "Для данных значений $F_{crit} = 3.38$. Так как $F_H > F_{crit}$, мы отвергаем нулевую гипотезу $(H_0: \\overline{y}_1 = \\overline{y}_2 = \\overline{y}_3)$, т.е. различие среднего роста среди взрослых футболистов, хоккеистов и штангистов статистически значимо."
   ]
  },
  {
   "cell_type": "markdown",
   "metadata": {},
   "source": [
    "**Ответ: При уровне значимости $\\alpha$ 0.05, средний рост среди взрослых футболистов, хоккеистов и штангистов различается**"
   ]
  }
 ],
 "metadata": {
  "kernelspec": {
   "display_name": "Python 3",
   "language": "python",
   "name": "python3"
  },
  "language_info": {
   "codemirror_mode": {
    "name": "ipython",
    "version": 3
   },
   "file_extension": ".py",
   "mimetype": "text/x-python",
   "name": "python",
   "nbconvert_exporter": "python",
   "pygments_lexer": "ipython3",
   "version": "3.7.3"
  }
 },
 "nbformat": 4,
 "nbformat_minor": 2
}
