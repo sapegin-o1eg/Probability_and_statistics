{
 "cells": [
  {
   "cell_type": "code",
   "execution_count": 1,
   "metadata": {},
   "outputs": [],
   "source": [
    "import numpy as np\n",
    "from scipy.special import factorial\n",
    "\n",
    "def combinations(n, k):\n",
    "    \"\"\"сочетания\"\"\"\n",
    "    return int(factorial(n) / (factorial(n - k) * factorial(k)))"
   ]
  },
  {
   "cell_type": "markdown",
   "metadata": {},
   "source": [
    "### 1) Даны значения зарплат из выборки выпускников: 100, 80, 75, 77, 89, 33, 45, 25, 65, 17, 30, 24, 57, 55, 70, 75, 65, 84, 90, 150. Посчитать (желательно без использования статистических методов наподобие std, var, mean) а) среднее арифметическое, б) среднее квадратичное отклонение, в) смещенную и несмещенную оценки дисперсий для данной выборки."
   ]
  },
  {
   "cell_type": "code",
   "execution_count": 2,
   "metadata": {},
   "outputs": [
    {
     "data": {
      "text/plain": [
       "array([100,  80,  75,  77,  89,  33,  45,  25,  65,  17,  30,  24,  57,\n",
       "        55,  70,  75,  65,  84,  90, 150])"
      ]
     },
     "execution_count": 2,
     "metadata": {},
     "output_type": "execute_result"
    }
   ],
   "source": [
    "a = np.array([100, 80, 75, 77, 89, 33, 45, 25, 65, 17, 30, 24, 57, 55, 70, 75, 65, 84, 90, 150])\n",
    "a"
   ]
  },
  {
   "cell_type": "markdown",
   "metadata": {},
   "source": [
    "**а) Среднее арифметическое $$\\mu=\\frac{1}{n} \\sum_{i=1}^{n}x_{i}$$**"
   ]
  },
  {
   "cell_type": "code",
   "execution_count": 3,
   "metadata": {},
   "outputs": [
    {
     "data": {
      "text/plain": [
       "65.3"
      ]
     },
     "execution_count": 3,
     "metadata": {},
     "output_type": "execute_result"
    }
   ],
   "source": [
    "n = len(a)\n",
    "mean = a.sum()/n\n",
    "mean"
   ]
  },
  {
   "cell_type": "markdown",
   "metadata": {},
   "source": [
    "**б) Cреднее квадратичное отклонение $$S=\\sqrt{\\frac{\\sum_{i=1}^{n}(x_{i}-\\bar{x})^{2}}{n}}$$**"
   ]
  },
  {
   "cell_type": "code",
   "execution_count": 4,
   "metadata": {},
   "outputs": [
    {
     "data": {
      "text/plain": [
       "30.823854398825596"
      ]
     },
     "execution_count": 4,
     "metadata": {},
     "output_type": "execute_result"
    }
   ],
   "source": [
    "std = np.sqrt(np.sum((a - mean)**2)/n)\n",
    "std"
   ]
  },
  {
   "cell_type": "markdown",
   "metadata": {},
   "source": [
    "**в) смещенная оценка дисперсии $$S^{2}=\\frac{\\sum_{i=1}^{n}(x_{i}-\\bar{x})^{2}}{n}$$**"
   ]
  },
  {
   "cell_type": "code",
   "execution_count": 5,
   "metadata": {},
   "outputs": [
    {
     "data": {
      "text/plain": [
       "950.11"
      ]
     },
     "execution_count": 5,
     "metadata": {},
     "output_type": "execute_result"
    }
   ],
   "source": [
    "variance1 = np.sum((a - mean)**2)/n\n",
    "variance1"
   ]
  },
  {
   "cell_type": "markdown",
   "metadata": {},
   "source": [
    "**г) несмещенная оценка дисперсии $$S_{unbiased}^{2}=\\frac{\\sum_{i=1}^{n}(x_{i}-\\bar{x})^{2}}{n-1}$$**"
   ]
  },
  {
   "cell_type": "code",
   "execution_count": 6,
   "metadata": {},
   "outputs": [
    {
     "data": {
      "text/plain": [
       "1000.1157894736842"
      ]
     },
     "execution_count": 6,
     "metadata": {},
     "output_type": "execute_result"
    }
   ],
   "source": [
    "variance2 = np.sum((a - mean)**2)/(n-1)\n",
    "variance2"
   ]
  },
  {
   "cell_type": "markdown",
   "metadata": {},
   "source": [
    " **Ответ:**\n",
    " \n",
    " $\\mu=65.3$\n",
    " \n",
    " $S=30.82$\n",
    " \n",
    " $S^{2}=950.11$\n",
    " \n",
    " $S_{unbiased.}^{2}=1000.12$"
   ]
  },
  {
   "cell_type": "markdown",
   "metadata": {},
   "source": [
    "### 2) В первом ящике находится 8 мячей, из которых 5 - белые. Во втором ящике - 12 мячей, из которых 5 белых. Из первого ящика вытаскивают случайным образом два мяча, из второго - 4. Какова вероятность того, что 3 мяча белые?"
   ]
  },
  {
   "cell_type": "code",
   "execution_count": 7,
   "metadata": {},
   "outputs": [
    {
     "data": {
      "text/plain": [
       "0.12626262626262627"
      ]
     },
     "execution_count": 7,
     "metadata": {},
     "output_type": "execute_result"
    }
   ],
   "source": [
    "p11 = combinations(5, 2) / combinations(8, 2)\n",
    "p12 = combinations(5, 1) * combinations(7, 3) / combinations(12, 4)\n",
    "p1 = p11 * p12\n",
    "p1"
   ]
  },
  {
   "cell_type": "code",
   "execution_count": 8,
   "metadata": {},
   "outputs": [
    {
     "data": {
      "text/plain": [
       "0.22727272727272727"
      ]
     },
     "execution_count": 8,
     "metadata": {},
     "output_type": "execute_result"
    }
   ],
   "source": [
    "p21 = combinations(5, 1) * combinations(3, 1) / combinations(8, 2)\n",
    "p22 = combinations(5, 2) * combinations(7, 2) / combinations(12, 4)\n",
    "p2 = p21 * p22\n",
    "p2"
   ]
  },
  {
   "cell_type": "code",
   "execution_count": 9,
   "metadata": {},
   "outputs": [
    {
     "data": {
      "text/plain": [
       "0.01515151515151515"
      ]
     },
     "execution_count": 9,
     "metadata": {},
     "output_type": "execute_result"
    }
   ],
   "source": [
    "p31 = combinations(3, 2) / combinations(8, 2)\n",
    "p32 = combinations(5, 3) * combinations(7, 1) / combinations(12, 4)\n",
    "p3 = p31 * p32\n",
    "p3"
   ]
  },
  {
   "cell_type": "code",
   "execution_count": 10,
   "metadata": {},
   "outputs": [
    {
     "data": {
      "text/plain": [
       "36.87"
      ]
     },
     "execution_count": 10,
     "metadata": {},
     "output_type": "execute_result"
    }
   ],
   "source": [
    "P = p1 + p2 + p3\n",
    "np.round(P*100, decimals=2)"
   ]
  },
  {
   "cell_type": "markdown",
   "metadata": {},
   "source": [
    "**Ответ: 36.87%**"
   ]
  },
  {
   "cell_type": "markdown",
   "metadata": {},
   "source": [
    "### 3) На соревновании по биатлону один из трех спортсменов стреляет и попадает в мишень. Вероятность попадания для первого спортсмена равна 0.9, для второго — 0.8, для третьего — 0.6. Найти вероятность того, что выстрел произведен: a). первым спортсменом б). вторым спортсменом в). третьим спортсменом."
   ]
  },
  {
   "cell_type": "markdown",
   "metadata": {},
   "source": [
    "Событием  𝐴  будем считать попадание в мишень, а событиями  ${B_1}$, ${B_2}$  и  ${B_3}$  — что выстрел совершил первый, второй или третий спортсмен. Вероятность выбора одного из трех спортсменов: $$P({B_1})=P({B_2})=P({B_3})=\\frac{1}{3}$$\n",
    "\n",
    "Вероятность попадания стрелком, при условии, что его выбрали:\n",
    "\n",
    "$$P(A|B_{1})=0.9$$\n",
    "\n",
    "$$P(A|B_{2})=0.8$$\n",
    "\n",
    "$$P(A|B_{3})=0.6$$\n",
    "\n",
    "Для решения воспользуемся формулой Байеса $$P(B|A)=\\frac{P(B)\\cdot P(A|B)}{P(A)}$$\n",
    "\n",
    "Найдем полную вероятность $P(A)=P(B_{1})\\cdot P(A|B_{1})+P(B_{2})\\cdot P(A|B_{2})+ \\dots +P(B_{n})\\cdot P(A|B_{n})$"
   ]
  },
  {
   "cell_type": "code",
   "execution_count": 11,
   "metadata": {},
   "outputs": [
    {
     "data": {
      "text/plain": [
       "0.7666666666666666"
      ]
     },
     "execution_count": 11,
     "metadata": {},
     "output_type": "execute_result"
    }
   ],
   "source": [
    "P_A = 1/3 * 0.9 + 1/3 * 0.8 + 1/3 * 0.6\n",
    "P_A"
   ]
  },
  {
   "cell_type": "markdown",
   "metadata": {},
   "source": [
    "**a) выстрел произведен первым спортсменом $$P(B_{1}|A)=\\frac{P(B_{1})\\cdot P(A|B_{1})}{P(A)}$$**"
   ]
  },
  {
   "cell_type": "code",
   "execution_count": 12,
   "metadata": {},
   "outputs": [
    {
     "data": {
      "text/plain": [
       "39.13"
      ]
     },
     "execution_count": 12,
     "metadata": {},
     "output_type": "execute_result"
    }
   ],
   "source": [
    "P_B1_A = 1/3 * 0.9 / P_A\n",
    "np.round(P_B1_A*100, decimals=2)"
   ]
  },
  {
   "cell_type": "markdown",
   "metadata": {},
   "source": [
    "**б) вторым**"
   ]
  },
  {
   "cell_type": "code",
   "execution_count": 13,
   "metadata": {},
   "outputs": [
    {
     "data": {
      "text/plain": [
       "34.78"
      ]
     },
     "execution_count": 13,
     "metadata": {},
     "output_type": "execute_result"
    }
   ],
   "source": [
    "P_B2_A = 1/3 * 0.8 / P_A\n",
    "np.round(P_B2_A*100, decimals=2)"
   ]
  },
  {
   "cell_type": "markdown",
   "metadata": {},
   "source": [
    "**в) третьим**"
   ]
  },
  {
   "cell_type": "code",
   "execution_count": 14,
   "metadata": {},
   "outputs": [
    {
     "data": {
      "text/plain": [
       "26.09"
      ]
     },
     "execution_count": 14,
     "metadata": {},
     "output_type": "execute_result"
    }
   ],
   "source": [
    "P_B3_A = 1/3 * 0.6 / P_A\n",
    "np.round(P_B3_A*100, decimals=2)"
   ]
  },
  {
   "cell_type": "markdown",
   "metadata": {},
   "source": [
    "**Ответ: a) первым 39.13%; б) вторым 34.78%; в) третьим 26.09%**"
   ]
  },
  {
   "cell_type": "markdown",
   "metadata": {},
   "source": [
    "### 4) В университет на факультеты A и B поступило равное количество студентов, а на факультет C студентов поступило столько же, сколько на A и B вместе. Вероятность того, что студент факультета A сдаст первую сессию, равна 0.8. Для студента факультета B эта вероятность равна 0.7, а для студента факультета C - 0.9. Студент сдал первую сессию. Какова вероятность, что он учится: a). на факультете A б). на факультете B в). на факультете C?"
   ]
  },
  {
   "cell_type": "markdown",
   "metadata": {},
   "source": [
    "Предположим, что кол-во студентов это $x$. По условию в каждом факультете количество студентов равно:\n",
    "\n",
    "факультет A $=x$\n",
    "\n",
    "факультет B $=x$\n",
    "\n",
    "факультет С $=2x$\n",
    "\n",
    "Общее кол-во студентов: $X_{total}= x + x + 2x = 4x$\n",
    "\n",
    "Вероятность случайным образом выбрать студента из 3-x факультетов равна: \n",
    "\n",
    "факультет А $P(B_{1})=\\frac{x}{4x}=\\frac{1}{4}$\n",
    "\n",
    "факультет В $P(B_{2})=\\frac{x}{4x}=\\frac{1}{4}$\n",
    "\n",
    "факультет С $P(B_{3})=\\frac{2x}{4x}=\\frac{1}{2}$\n",
    "\n",
    "Вероятности сдачи сессии студентами по всем факультетам:\n",
    "\n",
    "студент из факультета А $P(A|B_{1})=0.8$\n",
    "\n",
    "студент из факультета В $P(A|B_{2})=0.7$\n",
    "\n",
    "студент из факультета С $P(A|B_{3})=0.9$\n",
    "\n",
    "Для решения воспользуемся формулой Байеса $$P(B|A)=\\frac{P(B)\\cdot P(A|B)}{P(A)}$$\n",
    "\n",
    "Найдем полную вероятность $P(A)=P(B_{1})\\cdot P(A|B_{1})+P(B_{2})\\cdot P(A|B_{2})+ \\dots +P(B_{n})\\cdot P(A|B_{n})$"
   ]
  },
  {
   "cell_type": "code",
   "execution_count": 15,
   "metadata": {},
   "outputs": [
    {
     "data": {
      "text/plain": [
       "0.825"
      ]
     },
     "execution_count": 15,
     "metadata": {},
     "output_type": "execute_result"
    }
   ],
   "source": [
    "P_A = 1/4 * 0.8 + 1/4 * 0.7 + 1/2 * 0.9\n",
    "P_A"
   ]
  },
  {
   "cell_type": "markdown",
   "metadata": {},
   "source": [
    "**а) Студент сдал первую сессию. Вероятность, что он учится на факультете A $P(B_{1}|A)$:**"
   ]
  },
  {
   "cell_type": "code",
   "execution_count": 16,
   "metadata": {},
   "outputs": [
    {
     "data": {
      "text/plain": [
       "24.24"
      ]
     },
     "execution_count": 16,
     "metadata": {},
     "output_type": "execute_result"
    }
   ],
   "source": [
    "P_B1_A = 1/4 * 0.8 / P_A\n",
    "np.round(P_B1_A*100, decimals=2)"
   ]
  },
  {
   "cell_type": "markdown",
   "metadata": {},
   "source": [
    "**б) на факультете В $P(B_{2}|A)$**"
   ]
  },
  {
   "cell_type": "code",
   "execution_count": 17,
   "metadata": {},
   "outputs": [
    {
     "data": {
      "text/plain": [
       "21.21"
      ]
     },
     "execution_count": 17,
     "metadata": {},
     "output_type": "execute_result"
    }
   ],
   "source": [
    "P_B2_A = 1/4 * 0.7 / P_A\n",
    "np.round(P_B2_A*100, decimals=2)"
   ]
  },
  {
   "cell_type": "markdown",
   "metadata": {},
   "source": [
    "**в) на факультете С $P(B_{3}|A)$**"
   ]
  },
  {
   "cell_type": "code",
   "execution_count": 18,
   "metadata": {},
   "outputs": [
    {
     "data": {
      "text/plain": [
       "54.55"
      ]
     },
     "execution_count": 18,
     "metadata": {},
     "output_type": "execute_result"
    }
   ],
   "source": [
    "P_B3_A = 1/2 * 0.9 / P_A\n",
    "np.round(P_B3_A*100, decimals=2)"
   ]
  },
  {
   "cell_type": "markdown",
   "metadata": {},
   "source": [
    "**Ответ: a) на факультете A 24.24%; б) на факультете В 21.21%; в) на факультете C 54.55%**"
   ]
  },
  {
   "cell_type": "markdown",
   "metadata": {},
   "source": [
    "### 5) Устройство состоит из трех деталей. Для первой детали вероятность выйти из строя в первый месяц равна 0.1, для второй - 0.2, для третьей - 0.25. Какова вероятность того, что в первый месяц выйдут из строя: а). все детали б). только две детали в). хотя бы одна деталь г). от одной до двух деталей?"
   ]
  },
  {
   "cell_type": "markdown",
   "metadata": {},
   "source": [
    "Даны 3 детали - A, B, C.\n",
    "\n",
    "Вероятности выйти из строя в первый месяц:\n",
    "\n",
    "$P(A)=0.1$\n",
    "\n",
    "$P(B)=0.2$\n",
    "\n",
    "$P(C)=0.25$"
   ]
  },
  {
   "cell_type": "code",
   "execution_count": 19,
   "metadata": {},
   "outputs": [],
   "source": [
    "P_A = 0.1\n",
    "P_B = 0.2\n",
    "P_C = 0.25"
   ]
  },
  {
   "cell_type": "markdown",
   "metadata": {},
   "source": [
    "Найдем вероятности выйти из строя в первый месяц:"
   ]
  },
  {
   "cell_type": "markdown",
   "metadata": {},
   "source": [
    "**а) всех деталей**"
   ]
  },
  {
   "cell_type": "code",
   "execution_count": 20,
   "metadata": {},
   "outputs": [
    {
     "data": {
      "text/plain": [
       "0.5"
      ]
     },
     "execution_count": 20,
     "metadata": {},
     "output_type": "execute_result"
    }
   ],
   "source": [
    "P1 = P_A * P_B * P_C\n",
    "np.round(P1*100, decimals=2)"
   ]
  },
  {
   "cell_type": "markdown",
   "metadata": {},
   "source": [
    "**б) только двух деталей**"
   ]
  },
  {
   "cell_type": "code",
   "execution_count": 21,
   "metadata": {},
   "outputs": [
    {
     "data": {
      "text/plain": [
       "8.0"
      ]
     },
     "execution_count": 21,
     "metadata": {},
     "output_type": "execute_result"
    }
   ],
   "source": [
    "P2 = (P_A * P_B * (1-P_C)) + ((1-P_A) * P_B * P_C) + (P_A * (1-P_B) * P_C)\n",
    "np.round(P2*100, decimals=2)"
   ]
  },
  {
   "cell_type": "markdown",
   "metadata": {},
   "source": [
    "**в) хотя бы одной детали**"
   ]
  },
  {
   "cell_type": "markdown",
   "metadata": {},
   "source": [
    "От противного:"
   ]
  },
  {
   "cell_type": "code",
   "execution_count": 22,
   "metadata": {},
   "outputs": [
    {
     "data": {
      "text/plain": [
       "46.0"
      ]
     },
     "execution_count": 22,
     "metadata": {},
     "output_type": "execute_result"
    }
   ],
   "source": [
    "P3 = 1 - (0.9) * (0.8) * (0.75)\n",
    "np.round(P3*100, decimals=2)"
   ]
  },
  {
   "cell_type": "markdown",
   "metadata": {},
   "source": [
    "Или так:"
   ]
  },
  {
   "cell_type": "code",
   "execution_count": 23,
   "metadata": {},
   "outputs": [
    {
     "data": {
      "text/plain": [
       "0.375"
      ]
     },
     "execution_count": 23,
     "metadata": {},
     "output_type": "execute_result"
    }
   ],
   "source": [
    "p1 = (P_A * (1-P_B) * (1-P_C)) + ((1-P_A) * P_B * (1-P_C)) + ((1-P_A) * (1-P_B) * P_C)\n",
    "p1"
   ]
  },
  {
   "cell_type": "code",
   "execution_count": 24,
   "metadata": {},
   "outputs": [
    {
     "data": {
      "text/plain": [
       "0.08000000000000002"
      ]
     },
     "execution_count": 24,
     "metadata": {},
     "output_type": "execute_result"
    }
   ],
   "source": [
    "p2 = (P_A * P_B * (1-P_C)) + ((1-P_A) * P_B * P_C) + (P_A * (1-P_B) * P_C)\n",
    "p2"
   ]
  },
  {
   "cell_type": "code",
   "execution_count": 25,
   "metadata": {},
   "outputs": [
    {
     "data": {
      "text/plain": [
       "0.005000000000000001"
      ]
     },
     "execution_count": 25,
     "metadata": {},
     "output_type": "execute_result"
    }
   ],
   "source": [
    "p3 = P_A * P_B * P_C\n",
    "p3"
   ]
  },
  {
   "cell_type": "code",
   "execution_count": 26,
   "metadata": {},
   "outputs": [
    {
     "data": {
      "text/plain": [
       "46.0"
      ]
     },
     "execution_count": 26,
     "metadata": {},
     "output_type": "execute_result"
    }
   ],
   "source": [
    "np.round((p1+p2+p3)*100, decimals=2)"
   ]
  },
  {
   "cell_type": "markdown",
   "metadata": {},
   "source": [
    "**г) от одной до двух деталей**"
   ]
  },
  {
   "cell_type": "code",
   "execution_count": 27,
   "metadata": {},
   "outputs": [
    {
     "data": {
      "text/plain": [
       "45.5"
      ]
     },
     "execution_count": 27,
     "metadata": {},
     "output_type": "execute_result"
    }
   ],
   "source": [
    "P4 = p1 + p2\n",
    "P4*100"
   ]
  },
  {
   "cell_type": "markdown",
   "metadata": {},
   "source": [
    "**Ответ:**\n",
    "\n",
    "а) все детали 0.5%\n",
    "\n",
    "б) только две детали 8%\n",
    "\n",
    "в) хотя бы одна деталь 46%\n",
    "\n",
    "г) от одной до двух деталей 45.5%"
   ]
  }
 ],
 "metadata": {
  "kernelspec": {
   "display_name": "Python 3",
   "language": "python",
   "name": "python3"
  },
  "language_info": {
   "codemirror_mode": {
    "name": "ipython",
    "version": 3
   },
   "file_extension": ".py",
   "mimetype": "text/x-python",
   "name": "python",
   "nbconvert_exporter": "python",
   "pygments_lexer": "ipython3",
   "version": "3.7.3"
  }
 },
 "nbformat": 4,
 "nbformat_minor": 2
}
